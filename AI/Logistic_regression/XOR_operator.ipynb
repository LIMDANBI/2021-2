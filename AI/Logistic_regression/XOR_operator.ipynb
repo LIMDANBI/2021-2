{
 "cells": [
  {
   "cell_type": "markdown",
   "metadata": {},
   "source": [
    "# XOR operator "
   ]
  },
  {
   "cell_type": "code",
   "execution_count": 1,
   "metadata": {},
   "outputs": [],
   "source": [
    "import numpy as np\n",
    "import matplotlib.pyplot as plt\n",
    "import random\n",
    "from math import exp, log"
   ]
  },
  {
   "cell_type": "code",
   "execution_count": 2,
   "metadata": {},
   "outputs": [],
   "source": [
    "X = [(0,0), (1,0), (0,1), (1,1)]\n",
    "Y = [0,1,1,0]\n",
    "train_loss_list = []"
   ]
  },
  {
   "cell_type": "code",
   "execution_count": 3,
   "metadata": {},
   "outputs": [],
   "source": [
    "class XOR_operator():\n",
    "    def __init__(self):\n",
    "        self.w = np.random.random(size=2)\n",
    "        self.b = np.random.random(size=1)\n",
    "    \n",
    "    def sigmoid(self, z):\n",
    "        return 1/(1+exp(-z))\n",
    "        \n",
    "    def predict(self, x):\n",
    "        z = np.inner(self.w, x)+self.b\n",
    "        a = self.sigmoid(z)\n",
    "        return a "
   ]
  },
  {
   "cell_type": "code",
   "execution_count": 4,
   "metadata": {},
   "outputs": [],
   "source": [
    "model = XOR_operator()"
   ]
  },
  {
   "cell_type": "code",
   "execution_count": 5,
   "metadata": {},
   "outputs": [],
   "source": [
    "def train(X, Y, model, lr=0.1):\n",
    "    dw0 = 0.0\n",
    "    dw1 = 0.0\n",
    "    db = 0.0\n",
    "    m = len(X)\n",
    "    cost = 0.0\n",
    "    for x,y in zip(X, Y):\n",
    "        a = model.predict(x)\n",
    "        if y==1:\n",
    "            cost-=log(a)\n",
    "        else:\n",
    "            cost-=log(1-a)\n",
    "        \n",
    "        dw0+=(a-y)*x[0]\n",
    "        dw1+=(a-y)*x[1]\n",
    "        db+=(a-y)\n",
    "        \n",
    "    cost/=m\n",
    "    train_loss_list.append(cost)\n",
    "    model.w[0]-=lr*dw0/m\n",
    "    model.w[1]-=lr*dw1/m\n",
    "    model.b-=lr*db/m\n",
    "    \n",
    "    return cost "
   ]
  },
  {
   "cell_type": "code",
   "execution_count": 6,
   "metadata": {},
   "outputs": [
    {
     "name": "stdout",
     "output_type": "stream",
     "text": [
      "0 0.5297545362134275\n",
      "100 0.34898451443608525\n",
      "200 0.2714610181384155\n",
      "300 0.22045786834018782\n",
      "400 0.18472062099131473\n",
      "500 0.15842494264273396\n",
      "600 0.13833237751901079\n",
      "700 0.12252163245355778\n",
      "800 0.10978456489893637\n",
      "900 0.099324363568205\n",
      "1000 0.09059478030405216\n",
      "1100 0.08320925284595009\n",
      "1200 0.07688686363749575\n",
      "1300 0.07141880874246709\n",
      "1400 0.06664683539455683\n",
      "1500 0.06244894784832027\n",
      "1600 0.05872967997794939\n",
      "1700 0.05541332270478828\n",
      "1800 0.05243911284784196\n",
      "1900 0.04975775364088902\n",
      "2000 0.047328857640715\n",
      "2100 0.045119040101368885\n",
      "2200 0.04310047853805144\n",
      "2300 0.04124981135490232\n",
      "2400 0.039547286406599214\n",
      "2500 0.037976096073542465\n",
      "2600 0.03652185310895995\n",
      "2700 0.03517217385284449\n",
      "2800 0.03391634413406577\n",
      "2900 0.03274504943271032\n",
      "3000 0.03165015540448074\n",
      "3100 0.030624528187430743\n",
      "3200 0.029661886367057317\n",
      "3300 0.02875667831040507\n",
      "3400 0.027903979962671244\n",
      "3500 0.02709940925084888\n",
      "3600 0.02633905404413083\n",
      "3700 0.02561941124222557\n",
      "3800 0.02493733504573695\n",
      "3900 0.02428999284066369\n",
      "4000 0.023674827426640163\n",
      "4100 0.0230895245542341\n",
      "4200 0.02253198492439386\n",
      "4300 0.0220002999535414\n",
      "4400 0.021492730728903897\n",
      "4500 0.021007689676664554\n",
      "4600 0.020543724545177226\n",
      "4700 0.020099504370542486\n",
      "4800 0.019673807145206675\n",
      "4900 0.019265508954195227\n",
      "5000 0.018873574379929387\n",
      "5100 0.01849704800675042\n",
      "5200 0.01813504688139931\n",
      "5300 0.01778675380672224\n",
      "5400 0.01745141136349435\n",
      "5500 0.01712831657009782\n",
      "5600 0.016816816102313413\n",
      "5700 0.016516302006100467\n",
      "5800 0.016226207845249307\n",
      "5900 0.015946005233469857\n",
      "6000 0.015675200707035476\n",
      "6100 0.015413332899719653\n",
      "6200 0.015159969986584247\n",
      "6300 0.014914707367327631\n",
      "6400 0.014677165563485441\n",
      "6500 0.014446988306869756\n",
      "6600 0.014223840799321692\n",
      "6700 0.01400740812618096\n",
      "6800 0.013797393807907786\n",
      "6900 0.01359351847606377\n",
      "7000 0.01339551866140489\n",
      "7100 0.013203145683198343\n",
      "7200 0.013016164630059815\n",
      "7300 0.012834353423657754\n",
      "7400 0.012657501957550669\n",
      "7500 0.012485411304234195\n",
      "7600 0.012317892984193599\n",
      "7700 0.01215476829139342\n",
      "7800 0.011995867670197714\n",
      "7900 0.011841030139214592\n",
      "8000 0.01169010275800381\n",
      "8100 0.011542940132983034\n",
      "8200 0.011399403959218181\n",
      "8300 0.011259362595103234\n",
      "8400 0.011122690667213147\n",
      "8500 0.010989268702868529\n",
      "8600 0.010858982788175776\n",
      "8700 0.010731724249510606\n",
      "8800 0.010607389356595076\n",
      "8900 0.010485879045483867\n",
      "9000 0.010367098659922363\n",
      "9100 0.010250957709674062\n",
      "9200 0.01013736964453565\n",
      "9300 0.010026251642866569\n",
      "9400 0.00991752441355915\n",
      "9500 0.009811112010466043\n",
      "9600 0.009706941658381554\n",
      "9700 0.009604943589748149\n",
      "9800 0.009505050891326304\n",
      "9900 0.009407199360127162\n"
     ]
    },
    {
     "data": {
      "text/plain": [
       "[<matplotlib.lines.Line2D at 0x7f932e9291f0>]"
      ]
     },
     "execution_count": 6,
     "metadata": {},
     "output_type": "execute_result"
    },
    {
     "data": {
      "image/png": "[encoded data removed]",
      "text/plain": [
       "<Figure size 432x288 with 1 Axes>"
      ]
     },
     "metadata": {
      "needs_background": "light"
     },
     "output_type": "display_data"
    }
   ],
   "source": [
    "for epoch in range(10000):\n",
    "    cost = train(X, Y, model, 0.1)\n",
    "    if epoch%100==0:\n",
    "        print(epoch, cost)\n",
    "\n",
    "plt.figure()\n",
    "plt.title(\"train loss\")\n",
    "x1 = np.arange(0, len(train_loss_list))\n",
    "plt.plot(x1, train_loss_list)"
   ]
  }
 ],
 "metadata": {
  "kernelspec": {
   "display_name": "Python 3",
   "language": "python",
   "name": "python3"
  },
  "language_info": {
   "codemirror_mode": {
    "name": "ipython",
    "version": 3
   },
   "file_extension": ".py",
   "mimetype": "text/x-python",
   "name": "python",
   "nbconvert_exporter": "python",
   "pygments_lexer": "ipython3",
   "version": "3.8.5"
  }
 },
 "nbformat": 4,
 "nbformat_minor": 4
}
