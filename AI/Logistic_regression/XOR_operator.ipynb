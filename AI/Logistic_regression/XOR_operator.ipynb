{
 "cells": [
  {
   "cell_type": "markdown",
   "metadata": {},
   "source": [
    "# XOR operator "
   ]
  },
  {
   "cell_type": "code",
   "execution_count": 1,
   "metadata": {},
   "outputs": [],
   "source": [
    "import numpy as np\n",
    "import matplotlib.pyplot as plt\n",
    "import random\n",
    "from math import exp, log"
   ]
  },
  {
   "cell_type": "code",
   "execution_count": 2,
   "metadata": {},
   "outputs": [],
   "source": [
    "X = [(0,0), (1,0), (0,1), (1,1)]\n",
    "Y = [0,1,1,0]\n",
    "train_loss_list = []"
   ]
  },
  {
   "cell_type": "code",
   "execution_count": 3,
   "metadata": {},
   "outputs": [],
   "source": [
    "class XOR_operator():\n",
    "    def __init__(self):\n",
    "        self.w = np.random.random(size=2)\n",
    "        self.b = np.random.random(size=1)\n",
    "    \n",
    "    def sigmoid(self, z):\n",
    "        return 1/(1+exp(-z))\n",
    "        \n",
    "    def predict(self, x):\n",
    "        z = np.inner(self.w, x)+self.b\n",
    "        a = self.sigmoid(z)\n",
    "        return a "
   ]
  },
  {
   "cell_type": "code",
   "execution_count": 4,
   "metadata": {},
   "outputs": [],
   "source": [
    "model = XOR_operator()"
   ]
  },
  {
   "cell_type": "code",
   "execution_count": 5,
   "metadata": {},
   "outputs": [],
   "source": [
    "def train(X, Y, model, lr=0.1):\n",
    "    dw0 = 0.0\n",
    "    dw1 = 0.0\n",
    "    db = 0.0\n",
    "    m = len(X)\n",
    "    cost = 0.0\n",
    "    for x,y in zip(X, Y):\n",
    "        a = model.predict(x)\n",
    "        if y==1:\n",
    "            cost-=log(a)\n",
    "        else:\n",
    "            cost-=log(1-a)\n",
    "        \n",
    "        dw0+=(a-y)*x[0]\n",
    "        dw1+=(a-y)*x[1]\n",
    "        db+=(a-y)\n",
    "        \n",
    "    cost/=m\n",
    "    train_loss_list.append(cost)\n",
    "    model.w[0]-=lr*dw0/m\n",
    "    model.w[1]-=lr*dw1/m\n",
    "    model.b-=lr*db/m\n",
    "    \n",
    "    return cost "
   ]
  },
  {
   "cell_type": "code",
   "execution_count": 6,
   "metadata": {},
   "outputs": [
    {
     "name": "stdout",
     "output_type": "stream",
     "text": [
      "0 0.7072411901704669\n",
      "100 0.6942901633373737\n",
      "200 0.6935410437416665\n",
      "300 0.6932907471554044\n",
      "400 0.6932023410428199\n",
      "500 0.6931693856572089\n",
      "600 0.6931564618957271\n",
      "700 0.6931511706672319\n",
      "800 0.6931489303631382\n",
      "900 0.6931479583237032\n",
      "1000 0.6931475293527378\n",
      "1100 0.6931473378812452\n",
      "1200 0.6931472517807813\n",
      "1300 0.6931472128777619\n",
      "1400 0.693147195246448\n",
      "1500 0.6931471872402875\n",
      "1600 0.6931471836003602\n",
      "1700 0.6931471819442332\n",
      "1800 0.6931471811903508\n",
      "1900 0.6931471808470736\n",
      "2000 0.6931471806907343\n",
      "2100 0.693147180619524\n",
      "2200 0.6931471805870864\n",
      "2300 0.6931471805723097\n",
      "2400 0.693147180565578\n",
      "2500 0.6931471805625115\n",
      "2600 0.6931471805611142\n",
      "2700 0.6931471805604779\n",
      "2800 0.693147180560188\n",
      "2900 0.6931471805600558\n",
      "3000 0.6931471805599957\n",
      "3100 0.6931471805599683\n",
      "3200 0.6931471805599558\n",
      "3300 0.6931471805599501\n",
      "3400 0.6931471805599475\n",
      "3500 0.6931471805599463\n",
      "3600 0.6931471805599456\n",
      "3700 0.6931471805599455\n",
      "3800 0.6931471805599454\n",
      "3900 0.6931471805599454\n",
      "4000 0.6931471805599454\n",
      "4100 0.6931471805599453\n",
      "4200 0.6931471805599453\n",
      "4300 0.6931471805599453\n",
      "4400 0.6931471805599453\n",
      "4500 0.6931471805599454\n",
      "4600 0.6931471805599453\n",
      "4700 0.6931471805599452\n",
      "4800 0.6931471805599452\n",
      "4900 0.6931471805599453\n",
      "5000 0.6931471805599454\n",
      "5100 0.6931471805599453\n",
      "5200 0.6931471805599453\n",
      "5300 0.6931471805599453\n",
      "5400 0.6931471805599454\n",
      "5500 0.6931471805599453\n",
      "5600 0.6931471805599453\n",
      "5700 0.6931471805599453\n",
      "5800 0.6931471805599452\n",
      "5900 0.6931471805599453\n",
      "6000 0.6931471805599453\n",
      "6100 0.6931471805599453\n",
      "6200 0.6931471805599453\n",
      "6300 0.6931471805599453\n",
      "6400 0.6931471805599454\n",
      "6500 0.6931471805599453\n",
      "6600 0.6931471805599453\n",
      "6700 0.6931471805599453\n",
      "6800 0.6931471805599453\n",
      "6900 0.6931471805599453\n",
      "7000 0.6931471805599453\n",
      "7100 0.6931471805599452\n",
      "7200 0.6931471805599453\n",
      "7300 0.6931471805599452\n",
      "7400 0.6931471805599452\n",
      "7500 0.6931471805599453\n",
      "7600 0.6931471805599453\n",
      "7700 0.6931471805599453\n",
      "7800 0.6931471805599453\n",
      "7900 0.6931471805599453\n",
      "8000 0.6931471805599453\n",
      "8100 0.6931471805599453\n",
      "8200 0.6931471805599454\n",
      "8300 0.6931471805599452\n",
      "8400 0.6931471805599452\n",
      "8500 0.6931471805599453\n",
      "8600 0.6931471805599453\n",
      "8700 0.6931471805599453\n",
      "8800 0.6931471805599453\n",
      "8900 0.6931471805599453\n",
      "9000 0.6931471805599453\n",
      "9100 0.6931471805599453\n",
      "9200 0.6931471805599453\n",
      "9300 0.6931471805599453\n",
      "9400 0.6931471805599453\n",
      "9500 0.6931471805599453\n",
      "9600 0.6931471805599453\n",
      "9700 0.6931471805599453\n",
      "9800 0.6931471805599453\n",
      "9900 0.6931471805599453\n"
     ]
    },
    {
     "data": {
      "text/plain": [
       "[<matplotlib.lines.Line2D at 0x7fc7b3929040>]"
      ]
     },
     "execution_count": 6,
     "metadata": {},
     "output_type": "execute_result"
    },
    {
     "data": {
      "image/png": "[encoded data removed]",
      "text/plain": [
       "<Figure size 432x288 with 1 Axes>"
      ]
     },
     "metadata": {
      "needs_background": "light"
     },
     "output_type": "display_data"
    }
   ],
   "source": [
    "for epoch in range(10000):\n",
    "    cost = train(X, Y, model, 0.1)\n",
    "    if epoch%100==0:\n",
    "        print(epoch, cost)\n",
    "\n",
    "plt.figure()\n",
    "plt.title(\"train loss\")\n",
    "x1 = np.arange(0, len(train_loss_list))\n",
    "plt.plot(x1, train_loss_list)"
   ]
  }
 ],
 "metadata": {
  "kernelspec": {
   "display_name": "Python 3",
   "language": "python",
   "name": "python3"
  },
  "language_info": {
   "codemirror_mode": {
    "name": "ipython",
    "version": 3
   },
   "file_extension": ".py",
   "mimetype": "text/x-python",
   "name": "python",
   "nbconvert_exporter": "python",
   "pygments_lexer": "ipython3",
   "version": "3.8.5"
  }
 },
 "nbformat": 4,
 "nbformat_minor": 4
}
