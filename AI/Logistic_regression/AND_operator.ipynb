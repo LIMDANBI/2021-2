{
 "cells": [
  {
   "cell_type": "markdown",
   "metadata": {},
   "source": [
    "# AND operator "
   ]
  },
  {
   "cell_type": "code",
   "execution_count": 1,
   "metadata": {},
   "outputs": [],
   "source": [
    "import numpy as np\n",
    "import matplotlib.pyplot as plt\n",
    "import random\n",
    "from math import exp, log"
   ]
  },
  {
   "cell_type": "code",
   "execution_count": 2,
   "metadata": {},
   "outputs": [],
   "source": [
    "X = [(0,0), (1,0), (0,1), (1,1)]\n",
    "Y = [0,0,0,1]\n",
    "train_loss_list = []"
   ]
  },
  {
   "cell_type": "code",
   "execution_count": 3,
   "metadata": {},
   "outputs": [],
   "source": [
    "class AND_operator():\n",
    "    def __init__(self):\n",
    "        self.w = np.random.random(size=2)\n",
    "        self.b = np.random.random(size=1)\n",
    "    \n",
    "    def sigmoid(self, z):\n",
    "        return 1/(1+exp(-z))\n",
    "        \n",
    "    def predict(self, x):\n",
    "        z = np.inner(self.w, x)+self.b\n",
    "        a = self.sigmoid(z)\n",
    "        return a "
   ]
  },
  {
   "cell_type": "code",
   "execution_count": 4,
   "metadata": {},
   "outputs": [],
   "source": [
    "model = AND_operator()"
   ]
  },
  {
   "cell_type": "code",
   "execution_count": 5,
   "metadata": {},
   "outputs": [],
   "source": [
    "def train(X, Y, model, lr=0.1):\n",
    "    dw0 = 0.0\n",
    "    dw1 = 0.0\n",
    "    db = 0.0\n",
    "    m = len(X)\n",
    "    cost = 0.0\n",
    "    for x,y in zip(X, Y):\n",
    "        a = model.predict(x)\n",
    "        if y==1:\n",
    "            cost-=log(a)\n",
    "        else:\n",
    "            cost-=log(1-a)\n",
    "        \n",
    "        dw0+=(a-y)*x[0]\n",
    "        dw1+=(a-y)*x[1]\n",
    "        db+=(a-y)\n",
    "        \n",
    "    cost/=m\n",
    "    train_loss_list.append(cost)\n",
    "    model.w[0]-=lr*dw0/m\n",
    "    model.w[1]-=lr*dw1/m\n",
    "    model.b-=lr*db/m\n",
    "    \n",
    "    return cost "
   ]
  },
  {
   "cell_type": "code",
   "execution_count": 6,
   "metadata": {},
   "outputs": [
    {
     "name": "stdout",
     "output_type": "stream",
     "text": [
      "0 0.8928128455769648\n",
      "100 0.42199605371146587\n",
      "200 0.3386227039479963\n",
      "300 0.28513571460523385\n",
      "400 0.24734161758686776\n",
      "500 0.2188862256000077\n",
      "600 0.19651185367265972\n",
      "700 0.17836539197008655\n",
      "800 0.1633039975905215\n",
      "900 0.1505774764972793\n",
      "1000 0.13966883989526574\n",
      "1100 0.13020784006137245\n",
      "1200 0.1219209907461625\n",
      "1300 0.11460110543838241\n",
      "1400 0.1080878918458898\n",
      "1500 0.10225512099547068\n",
      "1600 0.09700187141628334\n",
      "1700 0.09224639069099552\n",
      "1800 0.08792169064300878\n",
      "1900 0.08397232196361303\n",
      "2000 0.08035197026283089\n",
      "2100 0.07702163612469987\n",
      "2200 0.07394823802463607\n",
      "2300 0.07110352645334736\n",
      "2400 0.06846323043719414\n",
      "2500 0.06600637989606252\n",
      "2600 0.06371476263504536\n",
      "2700 0.061572485541573886\n",
      "2800 0.05956561723708824\n",
      "2900 0.05768189497901872\n",
      "3000 0.055910482667418895\n",
      "3100 0.05424176981517321\n",
      "3200 0.05266720358908758\n",
      "3300 0.05117914772850618\n",
      "3400 0.04977076344436448\n",
      "3500 0.048435908398910286\n",
      "3600 0.04716905063981302\n",
      "3700 0.04596519496677014\n",
      "3800 0.0448198196843034\n",
      "3900 0.04372882207113793\n",
      "4000 0.04268847119678772\n",
      "4100 0.04169536695666292\n",
      "4200 0.040746404391037674\n",
      "4300 0.03983874251045069\n",
      "4400 0.038969776978152876\n",
      "4500 0.03813711610499222\n",
      "4600 0.03733855969824033\n",
      "4700 0.03657208037694907\n",
      "4800 0.0358358070253412\n",
      "4900 0.035128010104761444\n",
      "5000 0.03444708858565775\n",
      "5100 0.033791558295377944\n",
      "5200 0.0331600415064294\n",
      "5300 0.03255125761420537\n",
      "5400 0.031964014773796554\n",
      "5500 0.03139720238301108\n",
      "5600 0.03084978431363348\n",
      "5700 0.030320792805682912\n",
      "5800 0.02980932295033005\n",
      "5900 0.02931452769649183\n",
      "6000 0.02883561332417877\n",
      "6100 0.028371835334617818\n",
      "6200 0.02792249471318662\n",
      "6300 0.027486934526406465\n",
      "6400 0.027064536818765205\n",
      "6500 0.026654719779086646\n",
      "6600 0.026256935149599925\n",
      "6700 0.025870665853868602\n",
      "6800 0.025495423822373124\n",
      "6900 0.02513074799685226\n",
      "7000 0.024776202496538946\n",
      "7100 0.024431374931218983\n",
      "7200 0.02409587484761605\n",
      "7300 0.023769332297008106\n",
      "7400 0.023451396513209596\n",
      "7500 0.023141734691154558\n",
      "7600 0.02284003085728672\n",
      "7700 0.0225459848238289\n",
      "7800 0.02225931121977443\n",
      "7900 0.02197973859213251\n",
      "8000 0.02170700857157227\n",
      "8100 0.021440875097162006\n",
      "8200 0.021181103695389822\n",
      "8300 0.020927470809096772\n",
      "8400 0.02067976317234814\n",
      "8500 0.020437777227624333\n",
      "8600 0.020201318582038483\n",
      "8700 0.019970201499570815\n",
      "8800 0.01974424842657687\n",
      "8900 0.019523289548059493\n",
      "9000 0.01930716237240855\n",
      "9100 0.01909571134250706\n",
      "9200 0.01888878747127455\n",
      "9300 0.0186862479998816\n",
      "9400 0.01848795607700971\n",
      "9500 0.018293780457665273\n",
      "9600 0.018103595220174424\n",
      "9700 0.017917279500093246\n",
      "9800 0.017734717239870437\n",
      "9900 0.017555796953186455\n"
     ]
    },
    {
     "data": {
      "text/plain": [
       "[<matplotlib.lines.Line2D at 0x7fd2430f3b80>]"
      ]
     },
     "execution_count": 6,
     "metadata": {},
     "output_type": "execute_result"
    },
    {
     "data": {
      "image/png": "[encoded data removed]",
      "text/plain": [
       "<Figure size 432x288 with 1 Axes>"
      ]
     },
     "metadata": {
      "needs_background": "light"
     },
     "output_type": "display_data"
    }
   ],
   "source": [
    "for epoch in range(10000):\n",
    "    cost = train(X, Y, model, 0.1)\n",
    "    if epoch%100==0:\n",
    "        print(epoch, cost)\n",
    "\n",
    "plt.figure()\n",
    "plt.title(\"train loss\")\n",
    "x1 = np.arange(0, len(train_loss_list))\n",
    "plt.plot(x1, train_loss_list)"
   ]
  }
 ],
 "metadata": {
  "kernelspec": {
   "display_name": "Python 3",
   "language": "python",
   "name": "python3"
  },
  "language_info": {
   "codemirror_mode": {
    "name": "ipython",
    "version": 3
   },
   "file_extension": ".py",
   "mimetype": "text/x-python",
   "name": "python",
   "nbconvert_exporter": "python",
   "pygments_lexer": "ipython3",
   "version": "3.8.5"
  }
 },
 "nbformat": 4,
 "nbformat_minor": 4
}
