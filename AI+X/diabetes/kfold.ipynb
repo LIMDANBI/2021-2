{
  "nbformat": 4,
  "nbformat_minor": 0,
  "metadata": {
    "colab": {
      "name": "kfold.ipynb",
      "provenance": [],
      "collapsed_sections": [],
      "include_colab_link": true
    },
    "kernelspec": {
      "name": "python3",
      "display_name": "Python 3"
    }
  },
  "cells": [
    {
      "cell_type": "markdown",
      "metadata": {
        "id": "view-in-github",
        "colab_type": "text"
      },
      "source": [
        "<a href=\"https://colab.research.google.com/github/LIMDANBI/2021-2/blob/main/AI%2BX/diabetes/kfold.ipynb\" target=\"_parent\"><img src=\"https://colab.research.google.com/assets/colab-badge.svg\" alt=\"Open In Colab\"/></a>"
      ]
    },
    {
      "cell_type": "markdown",
      "metadata": {
        "id": "PTYh9_kMwIu-"
      },
      "source": [
        "# 검증"
      ]
    },
    {
      "cell_type": "code",
      "metadata": {
        "colab": {
          "base_uri": "https://localhost:8080/",
          "height": 512
        },
        "id": "1xn415FgqqDJ",
        "outputId": "11d86a48-c39c-422e-b11b-e1ee59bf834f"
      },
      "source": [
        "import pandas as pd\n",
        "\n",
        "data_path = '/content/drive/MyDrive/ ai+x/titanic.xls'\n",
        "titanic = pd.read_excel(data_path)\n",
        "titanic.head()"
      ],
      "execution_count": 1,
      "outputs": [
        {
          "output_type": "execute_result",
          "data": {
            "text/html": [
              "<div>\n",
              "<style scoped>\n",
              "    .dataframe tbody tr th:only-of-type {\n",
              "        vertical-align: middle;\n",
              "    }\n",
              "\n",
              "    .dataframe tbody tr th {\n",
              "        vertical-align: top;\n",
              "    }\n",
              "\n",
              "    .dataframe thead th {\n",
              "        text-align: right;\n",
              "    }\n",
              "</style>\n",
              "<table border=\"1\" class=\"dataframe\">\n",
              "  <thead>\n",
              "    <tr style=\"text-align: right;\">\n",
              "      <th></th>\n",
              "      <th>pclass</th>\n",
              "      <th>survived</th>\n",
              "      <th>name</th>\n",
              "      <th>sex</th>\n",
              "      <th>age</th>\n",
              "      <th>sibsp</th>\n",
              "      <th>parch</th>\n",
              "      <th>ticket</th>\n",
              "      <th>fare</th>\n",
              "      <th>cabin</th>\n",
              "      <th>embarked</th>\n",
              "      <th>boat</th>\n",
              "      <th>body</th>\n",
              "      <th>home.dest</th>\n",
              "    </tr>\n",
              "  </thead>\n",
              "  <tbody>\n",
              "    <tr>\n",
              "      <th>0</th>\n",
              "      <td>1</td>\n",
              "      <td>1</td>\n",
              "      <td>Allen, Miss. Elisabeth Walton</td>\n",
              "      <td>female</td>\n",
              "      <td>29.0000</td>\n",
              "      <td>0</td>\n",
              "      <td>0</td>\n",
              "      <td>24160</td>\n",
              "      <td>211.3375</td>\n",
              "      <td>B5</td>\n",
              "      <td>S</td>\n",
              "      <td>2</td>\n",
              "      <td>NaN</td>\n",
              "      <td>St Louis, MO</td>\n",
              "    </tr>\n",
              "    <tr>\n",
              "      <th>1</th>\n",
              "      <td>1</td>\n",
              "      <td>1</td>\n",
              "      <td>Allison, Master. Hudson Trevor</td>\n",
              "      <td>male</td>\n",
              "      <td>0.9167</td>\n",
              "      <td>1</td>\n",
              "      <td>2</td>\n",
              "      <td>113781</td>\n",
              "      <td>151.5500</td>\n",
              "      <td>C22 C26</td>\n",
              "      <td>S</td>\n",
              "      <td>11</td>\n",
              "      <td>NaN</td>\n",
              "      <td>Montreal, PQ / Chesterville, ON</td>\n",
              "    </tr>\n",
              "    <tr>\n",
              "      <th>2</th>\n",
              "      <td>1</td>\n",
              "      <td>0</td>\n",
              "      <td>Allison, Miss. Helen Loraine</td>\n",
              "      <td>female</td>\n",
              "      <td>2.0000</td>\n",
              "      <td>1</td>\n",
              "      <td>2</td>\n",
              "      <td>113781</td>\n",
              "      <td>151.5500</td>\n",
              "      <td>C22 C26</td>\n",
              "      <td>S</td>\n",
              "      <td>NaN</td>\n",
              "      <td>NaN</td>\n",
              "      <td>Montreal, PQ / Chesterville, ON</td>\n",
              "    </tr>\n",
              "    <tr>\n",
              "      <th>3</th>\n",
              "      <td>1</td>\n",
              "      <td>0</td>\n",
              "      <td>Allison, Mr. Hudson Joshua Creighton</td>\n",
              "      <td>male</td>\n",
              "      <td>30.0000</td>\n",
              "      <td>1</td>\n",
              "      <td>2</td>\n",
              "      <td>113781</td>\n",
              "      <td>151.5500</td>\n",
              "      <td>C22 C26</td>\n",
              "      <td>S</td>\n",
              "      <td>NaN</td>\n",
              "      <td>135.0</td>\n",
              "      <td>Montreal, PQ / Chesterville, ON</td>\n",
              "    </tr>\n",
              "    <tr>\n",
              "      <th>4</th>\n",
              "      <td>1</td>\n",
              "      <td>0</td>\n",
              "      <td>Allison, Mrs. Hudson J C (Bessie Waldo Daniels)</td>\n",
              "      <td>female</td>\n",
              "      <td>25.0000</td>\n",
              "      <td>1</td>\n",
              "      <td>2</td>\n",
              "      <td>113781</td>\n",
              "      <td>151.5500</td>\n",
              "      <td>C22 C26</td>\n",
              "      <td>S</td>\n",
              "      <td>NaN</td>\n",
              "      <td>NaN</td>\n",
              "      <td>Montreal, PQ / Chesterville, ON</td>\n",
              "    </tr>\n",
              "  </tbody>\n",
              "</table>\n",
              "</div>"
            ],
            "text/plain": [
              "   pclass  survived  ...   body                        home.dest\n",
              "0       1         1  ...    NaN                     St Louis, MO\n",
              "1       1         1  ...    NaN  Montreal, PQ / Chesterville, ON\n",
              "2       1         0  ...    NaN  Montreal, PQ / Chesterville, ON\n",
              "3       1         0  ...  135.0  Montreal, PQ / Chesterville, ON\n",
              "4       1         0  ...    NaN  Montreal, PQ / Chesterville, ON\n",
              "\n",
              "[5 rows x 14 columns]"
            ]
          },
          "metadata": {},
          "execution_count": 1
        }
      ]
    },
    {
      "cell_type": "code",
      "metadata": {
        "id": "ryO7g20Fq454",
        "colab": {
          "base_uri": "https://localhost:8080/",
          "height": 512
        },
        "outputId": "ac72e3bc-b687-40e0-e001-c5e63b862c99"
      },
      "source": [
        "from sklearn.preprocessing import LabelEncoder\n",
        "\n",
        "le = LabelEncoder()\n",
        "le.fit(titanic['sex'])\n",
        "titanic['gender'] = le.transform(titanic['sex'])\n",
        "titanic.head()"
      ],
      "execution_count": 2,
      "outputs": [
        {
          "output_type": "execute_result",
          "data": {
            "text/html": [
              "<div>\n",
              "<style scoped>\n",
              "    .dataframe tbody tr th:only-of-type {\n",
              "        vertical-align: middle;\n",
              "    }\n",
              "\n",
              "    .dataframe tbody tr th {\n",
              "        vertical-align: top;\n",
              "    }\n",
              "\n",
              "    .dataframe thead th {\n",
              "        text-align: right;\n",
              "    }\n",
              "</style>\n",
              "<table border=\"1\" class=\"dataframe\">\n",
              "  <thead>\n",
              "    <tr style=\"text-align: right;\">\n",
              "      <th></th>\n",
              "      <th>pclass</th>\n",
              "      <th>survived</th>\n",
              "      <th>name</th>\n",
              "      <th>sex</th>\n",
              "      <th>age</th>\n",
              "      <th>sibsp</th>\n",
              "      <th>parch</th>\n",
              "      <th>ticket</th>\n",
              "      <th>fare</th>\n",
              "      <th>cabin</th>\n",
              "      <th>embarked</th>\n",
              "      <th>boat</th>\n",
              "      <th>body</th>\n",
              "      <th>home.dest</th>\n",
              "      <th>gender</th>\n",
              "    </tr>\n",
              "  </thead>\n",
              "  <tbody>\n",
              "    <tr>\n",
              "      <th>0</th>\n",
              "      <td>1</td>\n",
              "      <td>1</td>\n",
              "      <td>Allen, Miss. Elisabeth Walton</td>\n",
              "      <td>female</td>\n",
              "      <td>29.0000</td>\n",
              "      <td>0</td>\n",
              "      <td>0</td>\n",
              "      <td>24160</td>\n",
              "      <td>211.3375</td>\n",
              "      <td>B5</td>\n",
              "      <td>S</td>\n",
              "      <td>2</td>\n",
              "      <td>NaN</td>\n",
              "      <td>St Louis, MO</td>\n",
              "      <td>0</td>\n",
              "    </tr>\n",
              "    <tr>\n",
              "      <th>1</th>\n",
              "      <td>1</td>\n",
              "      <td>1</td>\n",
              "      <td>Allison, Master. Hudson Trevor</td>\n",
              "      <td>male</td>\n",
              "      <td>0.9167</td>\n",
              "      <td>1</td>\n",
              "      <td>2</td>\n",
              "      <td>113781</td>\n",
              "      <td>151.5500</td>\n",
              "      <td>C22 C26</td>\n",
              "      <td>S</td>\n",
              "      <td>11</td>\n",
              "      <td>NaN</td>\n",
              "      <td>Montreal, PQ / Chesterville, ON</td>\n",
              "      <td>1</td>\n",
              "    </tr>\n",
              "    <tr>\n",
              "      <th>2</th>\n",
              "      <td>1</td>\n",
              "      <td>0</td>\n",
              "      <td>Allison, Miss. Helen Loraine</td>\n",
              "      <td>female</td>\n",
              "      <td>2.0000</td>\n",
              "      <td>1</td>\n",
              "      <td>2</td>\n",
              "      <td>113781</td>\n",
              "      <td>151.5500</td>\n",
              "      <td>C22 C26</td>\n",
              "      <td>S</td>\n",
              "      <td>NaN</td>\n",
              "      <td>NaN</td>\n",
              "      <td>Montreal, PQ / Chesterville, ON</td>\n",
              "      <td>0</td>\n",
              "    </tr>\n",
              "    <tr>\n",
              "      <th>3</th>\n",
              "      <td>1</td>\n",
              "      <td>0</td>\n",
              "      <td>Allison, Mr. Hudson Joshua Creighton</td>\n",
              "      <td>male</td>\n",
              "      <td>30.0000</td>\n",
              "      <td>1</td>\n",
              "      <td>2</td>\n",
              "      <td>113781</td>\n",
              "      <td>151.5500</td>\n",
              "      <td>C22 C26</td>\n",
              "      <td>S</td>\n",
              "      <td>NaN</td>\n",
              "      <td>135.0</td>\n",
              "      <td>Montreal, PQ / Chesterville, ON</td>\n",
              "      <td>1</td>\n",
              "    </tr>\n",
              "    <tr>\n",
              "      <th>4</th>\n",
              "      <td>1</td>\n",
              "      <td>0</td>\n",
              "      <td>Allison, Mrs. Hudson J C (Bessie Waldo Daniels)</td>\n",
              "      <td>female</td>\n",
              "      <td>25.0000</td>\n",
              "      <td>1</td>\n",
              "      <td>2</td>\n",
              "      <td>113781</td>\n",
              "      <td>151.5500</td>\n",
              "      <td>C22 C26</td>\n",
              "      <td>S</td>\n",
              "      <td>NaN</td>\n",
              "      <td>NaN</td>\n",
              "      <td>Montreal, PQ / Chesterville, ON</td>\n",
              "      <td>0</td>\n",
              "    </tr>\n",
              "  </tbody>\n",
              "</table>\n",
              "</div>"
            ],
            "text/plain": [
              "   pclass  survived  ...                        home.dest gender\n",
              "0       1         1  ...                     St Louis, MO      0\n",
              "1       1         1  ...  Montreal, PQ / Chesterville, ON      1\n",
              "2       1         0  ...  Montreal, PQ / Chesterville, ON      0\n",
              "3       1         0  ...  Montreal, PQ / Chesterville, ON      1\n",
              "4       1         0  ...  Montreal, PQ / Chesterville, ON      0\n",
              "\n",
              "[5 rows x 15 columns]"
            ]
          },
          "metadata": {},
          "execution_count": 2
        }
      ]
    },
    {
      "cell_type": "code",
      "metadata": {
        "id": "FyacK_surAJl",
        "colab": {
          "base_uri": "https://localhost:8080/"
        },
        "outputId": "2aafd140-9270-4212-b060-d5b342f41ef5"
      },
      "source": [
        "titanic = titanic[titanic['age'].notnull()]\n",
        "titanic = titanic[titanic['fare'].notnull()]\n",
        "titanic.info()"
      ],
      "execution_count": 3,
      "outputs": [
        {
          "output_type": "stream",
          "name": "stdout",
          "text": [
            "<class 'pandas.core.frame.DataFrame'>\n",
            "Int64Index: 1045 entries, 0 to 1308\n",
            "Data columns (total 15 columns):\n",
            " #   Column     Non-Null Count  Dtype  \n",
            "---  ------     --------------  -----  \n",
            " 0   pclass     1045 non-null   int64  \n",
            " 1   survived   1045 non-null   int64  \n",
            " 2   name       1045 non-null   object \n",
            " 3   sex        1045 non-null   object \n",
            " 4   age        1045 non-null   float64\n",
            " 5   sibsp      1045 non-null   int64  \n",
            " 6   parch      1045 non-null   int64  \n",
            " 7   ticket     1045 non-null   object \n",
            " 8   fare       1045 non-null   float64\n",
            " 9   cabin      272 non-null    object \n",
            " 10  embarked   1043 non-null   object \n",
            " 11  boat       417 non-null    object \n",
            " 12  body       119 non-null    float64\n",
            " 13  home.dest  685 non-null    object \n",
            " 14  gender     1045 non-null   int64  \n",
            "dtypes: float64(3), int64(5), object(7)\n",
            "memory usage: 130.6+ KB\n"
          ]
        }
      ]
    },
    {
      "cell_type": "code",
      "metadata": {
        "id": "EqznxzUQq6E8"
      },
      "source": [
        "from sklearn.preprocessing import StandardScaler\n",
        "from sklearn.model_selection import train_test_split\n",
        "\n",
        "X = titanic[['pclass', 'age', 'sibsp', 'parch', 'fare', 'gender']].values\n",
        "y = titanic['survived'].values\n",
        "\n",
        "SS = StandardScaler()\n",
        "SS.fit(X)\n",
        "\n",
        "X_ss = SS.transform(X)\n",
        "\n",
        "X_train, X_test, y_train, y_test = \\\n",
        "train_test_split(X_ss, y, test_size = 0.2, random_state = 13)"
      ],
      "execution_count": 4,
      "outputs": []
    },
    {
      "cell_type": "code",
      "metadata": {
        "id": "tluLT7Woq5vf"
      },
      "source": [
        "from sklearn.linear_model import LogisticRegression\n",
        "from sklearn.model_selection import KFold\n",
        "\n",
        "log_reg_kf = LogisticRegression(random_state = 13, solver = 'liblinear')\n",
        "kfold = KFold(n_splits = 5)\n",
        "cv_accuracy = []"
      ],
      "execution_count": 5,
      "outputs": []
    },
    {
      "cell_type": "code",
      "metadata": {
        "id": "6GR0EqW2rbJs"
      },
      "source": [
        "from sklearn.metrics import accuracy_score\n",
        "\n",
        "for train_idx, test_idx in kfold.split(X_ss):\n",
        "    X_train, X_test = X_ss[train_idx], X_ss[test_idx]\n",
        "    y_train, y_test = y[train_idx], y[test_idx]\n",
        "\n",
        "    log_reg_kf.fit(X_train, y_train)\n",
        "\n",
        "    pred = log_reg_kf.predict(X_test)\n",
        "    accuracy = accuracy_score(y_test, pred)\n",
        "\n",
        "    cv_accuracy.append(accuracy)"
      ],
      "execution_count": 6,
      "outputs": []
    },
    {
      "cell_type": "code",
      "metadata": {
        "id": "E3dTx6m7rbis",
        "colab": {
          "base_uri": "https://localhost:8080/"
        },
        "outputId": "6ab331e4-1de5-4c2e-8917-1c47ec73f03f"
      },
      "source": [
        "cv_accuracy"
      ],
      "execution_count": 7,
      "outputs": [
        {
          "output_type": "execute_result",
          "data": {
            "text/plain": [
              "[0.7655502392344498,\n",
              " 0.8660287081339713,\n",
              " 0.8229665071770335,\n",
              " 0.7464114832535885,\n",
              " 0.7081339712918661]"
            ]
          },
          "metadata": {},
          "execution_count": 7
        }
      ]
    },
    {
      "cell_type": "code",
      "metadata": {
        "id": "YfZtPGYBrb1j",
        "colab": {
          "base_uri": "https://localhost:8080/"
        },
        "outputId": "16619d03-1756-45ca-9100-8936c569d4f9"
      },
      "source": [
        "import numpy as np\n",
        "\n",
        "np.mean(cv_accuracy)"
      ],
      "execution_count": 8,
      "outputs": [
        {
          "output_type": "execute_result",
          "data": {
            "text/plain": [
              "0.7818181818181819"
            ]
          },
          "metadata": {},
          "execution_count": 8
        }
      ]
    },
    {
      "cell_type": "code",
      "metadata": {
        "id": "IPlYAC_Zrb-y",
        "colab": {
          "base_uri": "https://localhost:8080/"
        },
        "outputId": "5ad17f5e-6bf7-496b-b726-0124ef489de7"
      },
      "source": [
        "for train_idx, test_idx in kfold.split(X_ss):\n",
        "    X_train, X_test = X_ss[train_idx], X_ss[test_idx]\n",
        "    y_train, y_test = y[train_idx], y[test_idx]\n",
        "\n",
        "    print(np.unique(y_test, return_counts = True))"
      ],
      "execution_count": 9,
      "outputs": [
        {
          "output_type": "stream",
          "name": "stdout",
          "text": [
            "(array([0, 1]), array([ 74, 135]))\n",
            "(array([0, 1]), array([107, 102]))\n",
            "(array([0, 1]), array([125,  84]))\n",
            "(array([0, 1]), array([155,  54]))\n",
            "(array([0, 1]), array([157,  52]))\n"
          ]
        }
      ]
    },
    {
      "cell_type": "code",
      "metadata": {
        "id": "iKohE6fKrcIL"
      },
      "source": [
        "from sklearn.model_selection import StratifiedKFold\n",
        "\n",
        "log_reg_kf = LogisticRegression(random_state = 13, solver = 'liblinear')\n",
        "skfold = StratifiedKFold(n_splits = 5)\n",
        "cv_accuracy = []"
      ],
      "execution_count": 10,
      "outputs": []
    },
    {
      "cell_type": "code",
      "metadata": {
        "id": "WOaBbzHurcU-",
        "colab": {
          "base_uri": "https://localhost:8080/"
        },
        "outputId": "5a41910a-72be-45c5-d0fa-395b89f9fa41"
      },
      "source": [
        "for train_idx, test_idx in skfold.split(X_ss, y):\n",
        "    X_train, X_test = X_ss[train_idx], X_ss[test_idx]\n",
        "    y_train, y_test = y[train_idx], y[test_idx]\n",
        "\n",
        "    print(np.unique(y_test, return_counts = True))"
      ],
      "execution_count": 11,
      "outputs": [
        {
          "output_type": "stream",
          "name": "stdout",
          "text": [
            "(array([0, 1]), array([123,  86]))\n",
            "(array([0, 1]), array([123,  86]))\n",
            "(array([0, 1]), array([124,  85]))\n",
            "(array([0, 1]), array([124,  85]))\n",
            "(array([0, 1]), array([124,  85]))\n"
          ]
        }
      ]
    },
    {
      "cell_type": "code",
      "metadata": {
        "id": "fo5bsOo-rcl5"
      },
      "source": [
        "for train_idx, test_idx in skfold.split(X_ss, y):\n",
        "    X_train, X_test = X_ss[train_idx], X_ss[test_idx]\n",
        "    y_train, y_test = y[train_idx], y[test_idx]\n",
        "\n",
        "    log_reg_kf.fit(X_train, y_train)\n",
        "\n",
        "    pred = log_reg_kf.predict(X_test)\n",
        "    accuracy = accuracy_score(y_test, pred)\n",
        "\n",
        "    cv_accuracy.append(accuracy)"
      ],
      "execution_count": 12,
      "outputs": []
    },
    {
      "cell_type": "code",
      "metadata": {
        "id": "uMBBU5AFrctQ",
        "colab": {
          "base_uri": "https://localhost:8080/"
        },
        "outputId": "b5dddcd5-f6c8-4527-cf50-466e33031af3"
      },
      "source": [
        "cv_accuracy"
      ],
      "execution_count": 13,
      "outputs": [
        {
          "output_type": "execute_result",
          "data": {
            "text/plain": [
              "[0.569377990430622,\n",
              " 0.861244019138756,\n",
              " 0.8133971291866029,\n",
              " 0.7368421052631579,\n",
              " 0.6555023923444976]"
            ]
          },
          "metadata": {},
          "execution_count": 13
        }
      ]
    },
    {
      "cell_type": "code",
      "metadata": {
        "id": "yWH3cDjNrcx5",
        "colab": {
          "base_uri": "https://localhost:8080/"
        },
        "outputId": "adec9660-c0c0-4aab-fb1f-d964414908ba"
      },
      "source": [
        "np.mean(cv_accuracy)"
      ],
      "execution_count": 14,
      "outputs": [
        {
          "output_type": "execute_result",
          "data": {
            "text/plain": [
              "0.7272727272727273"
            ]
          },
          "metadata": {},
          "execution_count": 14
        }
      ]
    },
    {
      "cell_type": "code",
      "metadata": {
        "id": "bSQMfz7drc2y"
      },
      "source": [
        "from sklearn.model_selection import cross_val_score\n",
        "\n",
        "scores = cross_val_score(log_reg_kf, X_ss, y, scoring = 'accuracy', cv = 5)"
      ],
      "execution_count": 15,
      "outputs": []
    },
    {
      "cell_type": "code",
      "metadata": {
        "id": "IeS4Xc-89XPo",
        "colab": {
          "base_uri": "https://localhost:8080/"
        },
        "outputId": "2425389d-6df4-4d6f-fbd1-08c8f142492b"
      },
      "source": [
        "scores"
      ],
      "execution_count": 16,
      "outputs": [
        {
          "output_type": "execute_result",
          "data": {
            "text/plain": [
              "array([0.56937799, 0.86124402, 0.81339713, 0.73684211, 0.65550239])"
            ]
          },
          "metadata": {},
          "execution_count": 16
        }
      ]
    },
    {
      "cell_type": "code",
      "metadata": {
        "id": "ppYV4dqi9XhX",
        "colab": {
          "base_uri": "https://localhost:8080/"
        },
        "outputId": "a042ff69-1c0f-49d3-a444-b870ec2c7e16"
      },
      "source": [
        "np.mean(scores)"
      ],
      "execution_count": 17,
      "outputs": [
        {
          "output_type": "execute_result",
          "data": {
            "text/plain": [
              "0.7272727272727273"
            ]
          },
          "metadata": {},
          "execution_count": 17
        }
      ]
    },
    {
      "cell_type": "markdown",
      "metadata": {
        "id": "HxrAWyJPwE6c"
      },
      "source": [
        "# 하이퍼 파라미터 튜닝"
      ]
    },
    {
      "cell_type": "code",
      "metadata": {
        "id": "rCZkBCeL-1uI",
        "colab": {
          "base_uri": "https://localhost:8080/"
        },
        "outputId": "79495f24-e3fd-452b-90e8-f1b3703e1162"
      },
      "source": [
        "X_train, X_test, y_train, y_test = \\\n",
        "train_test_split(X_ss, y, test_size = 0.2, random_state = 13)\n",
        "\n",
        "from sklearn.tree import DecisionTreeClassifier\n",
        "\n",
        "dt = DecisionTreeClassifier(max_depth = 2, random_state = 13)\n",
        "dt.fit(X_train, y_train)\n",
        "\n",
        "pred = dt.predict(X_test)\n",
        "print(accuracy_score(y_test, pred))"
      ],
      "execution_count": 18,
      "outputs": [
        {
          "output_type": "stream",
          "name": "stdout",
          "text": [
            "0.7559808612440191\n"
          ]
        }
      ]
    },
    {
      "cell_type": "code",
      "metadata": {
        "id": "aGNwnFBi9vEV",
        "colab": {
          "base_uri": "https://localhost:8080/",
          "height": 440
        },
        "outputId": "9d0fff62-bb26-444e-9bfd-379a549e9180"
      },
      "source": [
        "from graphviz import Source\n",
        "from sklearn.tree import export_graphviz\n",
        "\n",
        "Source(export_graphviz(dt, feature_names = ['pclass', 'age', 'sibsp', 'parch', 'fare', 'gender'],\n",
        "                       class_names = ['not survived', 'survived'],\n",
        "                       rounded = True, filled = True))"
      ],
      "execution_count": 19,
      "outputs": [
        {
          "output_type": "execute_result",
          "data": {
            "text/plain": [
              "<graphviz.files.Source at 0x7f96b47fffd0>"
            ],
            "image/svg+xml": "<?xml version=\"1.0\" encoding=\"UTF-8\" standalone=\"no\"?>\n<!DOCTYPE svg PUBLIC \"-//W3C//DTD SVG 1.1//EN\"\n \"http://www.w3.org/Graphics/SVG/1.1/DTD/svg11.dtd\">\n<!-- Generated by graphviz version 2.40.1 (20161225.0304)\n -->\n<!-- Title: Tree Pages: 1 -->\n<svg width=\"622pt\" height=\"314pt\"\n viewBox=\"0.00 0.00 621.50 314.00\" xmlns=\"http://www.w3.org/2000/svg\" xmlns:xlink=\"http://www.w3.org/1999/xlink\">\n<g id=\"graph0\" class=\"graph\" transform=\"scale(1 1) rotate(0) translate(4 310)\">\n<title>Tree</title>\n<polygon fill=\"#ffffff\" stroke=\"transparent\" points=\"-4,4 -4,-310 617.5,-310 617.5,4 -4,4\"/>\n<!-- 0 -->\n<g id=\"node1\" class=\"node\">\n<title>0</title>\n<path fill=\"#f7d7c0\" stroke=\"#000000\" d=\"M356.5,-306C356.5,-306 235.5,-306 235.5,-306 229.5,-306 223.5,-300 223.5,-294 223.5,-294 223.5,-235 223.5,-235 223.5,-229 229.5,-223 235.5,-223 235.5,-223 356.5,-223 356.5,-223 362.5,-223 368.5,-229 368.5,-235 368.5,-235 368.5,-294 368.5,-294 368.5,-300 362.5,-306 356.5,-306\"/>\n<text text-anchor=\"middle\" x=\"296\" y=\"-290.8\" font-family=\"Helvetica,sans-Serif\" font-size=\"14.00\" fill=\"#000000\">gender &lt;= &#45;0.266</text>\n<text text-anchor=\"middle\" x=\"296\" y=\"-275.8\" font-family=\"Helvetica,sans-Serif\" font-size=\"14.00\" fill=\"#000000\">gini = 0.482</text>\n<text text-anchor=\"middle\" x=\"296\" y=\"-260.8\" font-family=\"Helvetica,sans-Serif\" font-size=\"14.00\" fill=\"#000000\">samples = 836</text>\n<text text-anchor=\"middle\" x=\"296\" y=\"-245.8\" font-family=\"Helvetica,sans-Serif\" font-size=\"14.00\" fill=\"#000000\">value = [497, 339]</text>\n<text text-anchor=\"middle\" x=\"296\" y=\"-230.8\" font-family=\"Helvetica,sans-Serif\" font-size=\"14.00\" fill=\"#000000\">class = not survived</text>\n</g>\n<!-- 1 -->\n<g id=\"node2\" class=\"node\">\n<title>1</title>\n<path fill=\"#7abdee\" stroke=\"#000000\" d=\"M265,-187C265,-187 165,-187 165,-187 159,-187 153,-181 153,-175 153,-175 153,-116 153,-116 153,-110 159,-104 165,-104 165,-104 265,-104 265,-104 271,-104 277,-110 277,-116 277,-116 277,-175 277,-175 277,-181 271,-187 265,-187\"/>\n<text text-anchor=\"middle\" x=\"215\" y=\"-171.8\" font-family=\"Helvetica,sans-Serif\" font-size=\"14.00\" fill=\"#000000\">pclass &lt;= 0.349</text>\n<text text-anchor=\"middle\" x=\"215\" y=\"-156.8\" font-family=\"Helvetica,sans-Serif\" font-size=\"14.00\" fill=\"#000000\">gini = 0.373</text>\n<text text-anchor=\"middle\" x=\"215\" y=\"-141.8\" font-family=\"Helvetica,sans-Serif\" font-size=\"14.00\" fill=\"#000000\">samples = 314</text>\n<text text-anchor=\"middle\" x=\"215\" y=\"-126.8\" font-family=\"Helvetica,sans-Serif\" font-size=\"14.00\" fill=\"#000000\">value = [78, 236]</text>\n<text text-anchor=\"middle\" x=\"215\" y=\"-111.8\" font-family=\"Helvetica,sans-Serif\" font-size=\"14.00\" fill=\"#000000\">class = survived</text>\n</g>\n<!-- 0&#45;&gt;1 -->\n<g id=\"edge1\" class=\"edge\">\n<title>0&#45;&gt;1</title>\n<path fill=\"none\" stroke=\"#000000\" d=\"M267.6701,-222.8796C261.7237,-214.1434 255.3914,-204.8404 249.255,-195.8253\"/>\n<polygon fill=\"#000000\" stroke=\"#000000\" points=\"251.9711,-193.5953 243.4508,-187.2981 246.1844,-197.5342 251.9711,-193.5953\"/>\n<text text-anchor=\"middle\" x=\"238.7843\" y=\"-208.1587\" font-family=\"Helvetica,sans-Serif\" font-size=\"14.00\" fill=\"#000000\">True</text>\n</g>\n<!-- 4 -->\n<g id=\"node5\" class=\"node\">\n<title>4</title>\n<path fill=\"#eba06a\" stroke=\"#000000\" d=\"M438.5,-187C438.5,-187 317.5,-187 317.5,-187 311.5,-187 305.5,-181 305.5,-175 305.5,-175 305.5,-116 305.5,-116 305.5,-110 311.5,-104 317.5,-104 317.5,-104 438.5,-104 438.5,-104 444.5,-104 450.5,-110 450.5,-116 450.5,-116 450.5,-175 450.5,-175 450.5,-181 444.5,-187 438.5,-187\"/>\n<text text-anchor=\"middle\" x=\"378\" y=\"-171.8\" font-family=\"Helvetica,sans-Serif\" font-size=\"14.00\" fill=\"#000000\">pclass &lt;= &#45;0.84</text>\n<text text-anchor=\"middle\" x=\"378\" y=\"-156.8\" font-family=\"Helvetica,sans-Serif\" font-size=\"14.00\" fill=\"#000000\">gini = 0.317</text>\n<text text-anchor=\"middle\" x=\"378\" y=\"-141.8\" font-family=\"Helvetica,sans-Serif\" font-size=\"14.00\" fill=\"#000000\">samples = 522</text>\n<text text-anchor=\"middle\" x=\"378\" y=\"-126.8\" font-family=\"Helvetica,sans-Serif\" font-size=\"14.00\" fill=\"#000000\">value = [419, 103]</text>\n<text text-anchor=\"middle\" x=\"378\" y=\"-111.8\" font-family=\"Helvetica,sans-Serif\" font-size=\"14.00\" fill=\"#000000\">class = not survived</text>\n</g>\n<!-- 0&#45;&gt;4 -->\n<g id=\"edge4\" class=\"edge\">\n<title>0&#45;&gt;4</title>\n<path fill=\"none\" stroke=\"#000000\" d=\"M324.6796,-222.8796C330.7615,-214.0534 337.2422,-204.6485 343.5141,-195.5466\"/>\n<polygon fill=\"#000000\" stroke=\"#000000\" points=\"346.4059,-197.5184 349.198,-187.2981 340.6418,-193.5465 346.4059,-197.5184\"/>\n<text text-anchor=\"middle\" x=\"353.7239\" y=\"-208.185\" font-family=\"Helvetica,sans-Serif\" font-size=\"14.00\" fill=\"#000000\">False</text>\n</g>\n<!-- 2 -->\n<g id=\"node3\" class=\"node\">\n<title>2</title>\n<path fill=\"#47a4e7\" stroke=\"#000000\" d=\"M112,-68C112,-68 12,-68 12,-68 6,-68 0,-62 0,-56 0,-56 0,-12 0,-12 0,-6 6,0 12,0 12,0 112,0 112,0 118,0 124,-6 124,-12 124,-12 124,-56 124,-56 124,-62 118,-68 112,-68\"/>\n<text text-anchor=\"middle\" x=\"62\" y=\"-52.8\" font-family=\"Helvetica,sans-Serif\" font-size=\"14.00\" fill=\"#000000\">gini = 0.126</text>\n<text text-anchor=\"middle\" x=\"62\" y=\"-37.8\" font-family=\"Helvetica,sans-Serif\" font-size=\"14.00\" fill=\"#000000\">samples = 193</text>\n<text text-anchor=\"middle\" x=\"62\" y=\"-22.8\" font-family=\"Helvetica,sans-Serif\" font-size=\"14.00\" fill=\"#000000\">value = [13, 180]</text>\n<text text-anchor=\"middle\" x=\"62\" y=\"-7.8\" font-family=\"Helvetica,sans-Serif\" font-size=\"14.00\" fill=\"#000000\">class = survived</text>\n</g>\n<!-- 1&#45;&gt;2 -->\n<g id=\"edge2\" class=\"edge\">\n<title>1&#45;&gt;2</title>\n<path fill=\"none\" stroke=\"#000000\" d=\"M158.0284,-103.9815C144.6604,-94.2394 130.4396,-83.8759 117.1528,-74.193\"/>\n<polygon fill=\"#000000\" stroke=\"#000000\" points=\"119.1595,-71.3247 109.0165,-68.2637 115.0368,-76.9819 119.1595,-71.3247\"/>\n</g>\n<!-- 3 -->\n<g id=\"node4\" class=\"node\">\n<title>3</title>\n<path fill=\"#fbeee4\" stroke=\"#000000\" d=\"M275.5,-68C275.5,-68 154.5,-68 154.5,-68 148.5,-68 142.5,-62 142.5,-56 142.5,-56 142.5,-12 142.5,-12 142.5,-6 148.5,0 154.5,0 154.5,0 275.5,0 275.5,0 281.5,0 287.5,-6 287.5,-12 287.5,-12 287.5,-56 287.5,-56 287.5,-62 281.5,-68 275.5,-68\"/>\n<text text-anchor=\"middle\" x=\"215\" y=\"-52.8\" font-family=\"Helvetica,sans-Serif\" font-size=\"14.00\" fill=\"#000000\">gini = 0.497</text>\n<text text-anchor=\"middle\" x=\"215\" y=\"-37.8\" font-family=\"Helvetica,sans-Serif\" font-size=\"14.00\" fill=\"#000000\">samples = 121</text>\n<text text-anchor=\"middle\" x=\"215\" y=\"-22.8\" font-family=\"Helvetica,sans-Serif\" font-size=\"14.00\" fill=\"#000000\">value = [65, 56]</text>\n<text text-anchor=\"middle\" x=\"215\" y=\"-7.8\" font-family=\"Helvetica,sans-Serif\" font-size=\"14.00\" fill=\"#000000\">class = not survived</text>\n</g>\n<!-- 1&#45;&gt;3 -->\n<g id=\"edge3\" class=\"edge\">\n<title>1&#45;&gt;3</title>\n<path fill=\"none\" stroke=\"#000000\" d=\"M215,-103.9815C215,-95.618 215,-86.7965 215,-78.3409\"/>\n<polygon fill=\"#000000\" stroke=\"#000000\" points=\"218.5001,-78.2636 215,-68.2637 211.5001,-78.2637 218.5001,-78.2636\"/>\n</g>\n<!-- 5 -->\n<g id=\"node6\" class=\"node\">\n<title>5</title>\n<path fill=\"#f3c4a2\" stroke=\"#000000\" d=\"M438.5,-68C438.5,-68 317.5,-68 317.5,-68 311.5,-68 305.5,-62 305.5,-56 305.5,-56 305.5,-12 305.5,-12 305.5,-6 311.5,0 317.5,0 317.5,0 438.5,0 438.5,0 444.5,0 450.5,-6 450.5,-12 450.5,-12 450.5,-56 450.5,-56 450.5,-62 444.5,-68 438.5,-68\"/>\n<text text-anchor=\"middle\" x=\"378\" y=\"-52.8\" font-family=\"Helvetica,sans-Serif\" font-size=\"14.00\" fill=\"#000000\">gini = 0.453</text>\n<text text-anchor=\"middle\" x=\"378\" y=\"-37.8\" font-family=\"Helvetica,sans-Serif\" font-size=\"14.00\" fill=\"#000000\">samples = 124</text>\n<text text-anchor=\"middle\" x=\"378\" y=\"-22.8\" font-family=\"Helvetica,sans-Serif\" font-size=\"14.00\" fill=\"#000000\">value = [81, 43]</text>\n<text text-anchor=\"middle\" x=\"378\" y=\"-7.8\" font-family=\"Helvetica,sans-Serif\" font-size=\"14.00\" fill=\"#000000\">class = not survived</text>\n</g>\n<!-- 4&#45;&gt;5 -->\n<g id=\"edge5\" class=\"edge\">\n<title>4&#45;&gt;5</title>\n<path fill=\"none\" stroke=\"#000000\" d=\"M378,-103.9815C378,-95.618 378,-86.7965 378,-78.3409\"/>\n<polygon fill=\"#000000\" stroke=\"#000000\" points=\"381.5001,-78.2636 378,-68.2637 374.5001,-78.2637 381.5001,-78.2636\"/>\n</g>\n<!-- 6 -->\n<g id=\"node7\" class=\"node\">\n<title>6</title>\n<path fill=\"#ea975c\" stroke=\"#000000\" d=\"M601.5,-68C601.5,-68 480.5,-68 480.5,-68 474.5,-68 468.5,-62 468.5,-56 468.5,-56 468.5,-12 468.5,-12 468.5,-6 474.5,0 480.5,0 480.5,0 601.5,0 601.5,0 607.5,0 613.5,-6 613.5,-12 613.5,-12 613.5,-56 613.5,-56 613.5,-62 607.5,-68 601.5,-68\"/>\n<text text-anchor=\"middle\" x=\"541\" y=\"-52.8\" font-family=\"Helvetica,sans-Serif\" font-size=\"14.00\" fill=\"#000000\">gini = 0.256</text>\n<text text-anchor=\"middle\" x=\"541\" y=\"-37.8\" font-family=\"Helvetica,sans-Serif\" font-size=\"14.00\" fill=\"#000000\">samples = 398</text>\n<text text-anchor=\"middle\" x=\"541\" y=\"-22.8\" font-family=\"Helvetica,sans-Serif\" font-size=\"14.00\" fill=\"#000000\">value = [338, 60]</text>\n<text text-anchor=\"middle\" x=\"541\" y=\"-7.8\" font-family=\"Helvetica,sans-Serif\" font-size=\"14.00\" fill=\"#000000\">class = not survived</text>\n</g>\n<!-- 4&#45;&gt;6 -->\n<g id=\"edge6\" class=\"edge\">\n<title>4&#45;&gt;6</title>\n<path fill=\"none\" stroke=\"#000000\" d=\"M438.6952,-103.9815C453.147,-94.0957 468.5342,-83.5701 482.868,-73.7651\"/>\n<polygon fill=\"#000000\" stroke=\"#000000\" points=\"484.8932,-76.6204 491.1708,-68.0856 480.941,-70.8428 484.8932,-76.6204\"/>\n</g>\n</g>\n</svg>\n"
          },
          "metadata": {},
          "execution_count": 19
        }
      ]
    },
    {
      "cell_type": "code",
      "metadata": {
        "id": "qhTFR6n69vIO"
      },
      "source": [
        "from sklearn.model_selection import GridSearchCV\n",
        "\n",
        "parameters = {'max_depth':[2, 3, 4, 5], 'min_samples_split':[2, 3, 4]}\n",
        "grid_clf = GridSearchCV(dt, param_grid = parameters, cv = 3)"
      ],
      "execution_count": 20,
      "outputs": []
    },
    {
      "cell_type": "code",
      "metadata": {
        "id": "bEZM6NCf9vn4",
        "colab": {
          "base_uri": "https://localhost:8080/"
        },
        "outputId": "75f9e0b0-a43b-46fe-b73b-a8eb6c103982"
      },
      "source": [
        "grid_clf.fit(X_train, y_train)"
      ],
      "execution_count": 21,
      "outputs": [
        {
          "output_type": "execute_result",
          "data": {
            "text/plain": [
              "GridSearchCV(cv=3,\n",
              "             estimator=DecisionTreeClassifier(max_depth=2, random_state=13),\n",
              "             param_grid={'max_depth': [2, 3, 4, 5],\n",
              "                         'min_samples_split': [2, 3, 4]})"
            ]
          },
          "metadata": {},
          "execution_count": 21
        }
      ]
    },
    {
      "cell_type": "code",
      "metadata": {
        "id": "9VL2hcbc9vrJ",
        "colab": {
          "base_uri": "https://localhost:8080/",
          "height": 821
        },
        "outputId": "c3ec9d1f-7711-472b-ac46-d21573a9bf0f"
      },
      "source": [
        "scores_df = pd.DataFrame(grid_clf.cv_results_)\n",
        "scores_df[['rank_test_score', 'params', 'mean_test_score', 'split0_test_score',\n",
        "           'split1_test_score', 'split2_test_score']]"
      ],
      "execution_count": 22,
      "outputs": [
        {
          "output_type": "execute_result",
          "data": {
            "text/html": [
              "<div>\n",
              "<style scoped>\n",
              "    .dataframe tbody tr th:only-of-type {\n",
              "        vertical-align: middle;\n",
              "    }\n",
              "\n",
              "    .dataframe tbody tr th {\n",
              "        vertical-align: top;\n",
              "    }\n",
              "\n",
              "    .dataframe thead th {\n",
              "        text-align: right;\n",
              "    }\n",
              "</style>\n",
              "<table border=\"1\" class=\"dataframe\">\n",
              "  <thead>\n",
              "    <tr style=\"text-align: right;\">\n",
              "      <th></th>\n",
              "      <th>rank_test_score</th>\n",
              "      <th>params</th>\n",
              "      <th>mean_test_score</th>\n",
              "      <th>split0_test_score</th>\n",
              "      <th>split1_test_score</th>\n",
              "      <th>split2_test_score</th>\n",
              "    </tr>\n",
              "  </thead>\n",
              "  <tbody>\n",
              "    <tr>\n",
              "      <th>0</th>\n",
              "      <td>10</td>\n",
              "      <td>{'max_depth': 2, 'min_samples_split': 2}</td>\n",
              "      <td>0.788286</td>\n",
              "      <td>0.788530</td>\n",
              "      <td>0.781362</td>\n",
              "      <td>0.794964</td>\n",
              "    </tr>\n",
              "    <tr>\n",
              "      <th>1</th>\n",
              "      <td>10</td>\n",
              "      <td>{'max_depth': 2, 'min_samples_split': 3}</td>\n",
              "      <td>0.788286</td>\n",
              "      <td>0.788530</td>\n",
              "      <td>0.781362</td>\n",
              "      <td>0.794964</td>\n",
              "    </tr>\n",
              "    <tr>\n",
              "      <th>2</th>\n",
              "      <td>10</td>\n",
              "      <td>{'max_depth': 2, 'min_samples_split': 4}</td>\n",
              "      <td>0.788286</td>\n",
              "      <td>0.788530</td>\n",
              "      <td>0.781362</td>\n",
              "      <td>0.794964</td>\n",
              "    </tr>\n",
              "    <tr>\n",
              "      <th>3</th>\n",
              "      <td>4</td>\n",
              "      <td>{'max_depth': 3, 'min_samples_split': 2}</td>\n",
              "      <td>0.795467</td>\n",
              "      <td>0.774194</td>\n",
              "      <td>0.806452</td>\n",
              "      <td>0.805755</td>\n",
              "    </tr>\n",
              "    <tr>\n",
              "      <th>4</th>\n",
              "      <td>4</td>\n",
              "      <td>{'max_depth': 3, 'min_samples_split': 3}</td>\n",
              "      <td>0.795467</td>\n",
              "      <td>0.774194</td>\n",
              "      <td>0.806452</td>\n",
              "      <td>0.805755</td>\n",
              "    </tr>\n",
              "    <tr>\n",
              "      <th>5</th>\n",
              "      <td>4</td>\n",
              "      <td>{'max_depth': 3, 'min_samples_split': 4}</td>\n",
              "      <td>0.795467</td>\n",
              "      <td>0.774194</td>\n",
              "      <td>0.806452</td>\n",
              "      <td>0.805755</td>\n",
              "    </tr>\n",
              "    <tr>\n",
              "      <th>6</th>\n",
              "      <td>1</td>\n",
              "      <td>{'max_depth': 4, 'min_samples_split': 2}</td>\n",
              "      <td>0.803830</td>\n",
              "      <td>0.795699</td>\n",
              "      <td>0.810036</td>\n",
              "      <td>0.805755</td>\n",
              "    </tr>\n",
              "    <tr>\n",
              "      <th>7</th>\n",
              "      <td>1</td>\n",
              "      <td>{'max_depth': 4, 'min_samples_split': 3}</td>\n",
              "      <td>0.803830</td>\n",
              "      <td>0.795699</td>\n",
              "      <td>0.810036</td>\n",
              "      <td>0.805755</td>\n",
              "    </tr>\n",
              "    <tr>\n",
              "      <th>8</th>\n",
              "      <td>1</td>\n",
              "      <td>{'max_depth': 4, 'min_samples_split': 4}</td>\n",
              "      <td>0.803830</td>\n",
              "      <td>0.795699</td>\n",
              "      <td>0.810036</td>\n",
              "      <td>0.805755</td>\n",
              "    </tr>\n",
              "    <tr>\n",
              "      <th>9</th>\n",
              "      <td>9</td>\n",
              "      <td>{'max_depth': 5, 'min_samples_split': 2}</td>\n",
              "      <td>0.791878</td>\n",
              "      <td>0.774194</td>\n",
              "      <td>0.799283</td>\n",
              "      <td>0.802158</td>\n",
              "    </tr>\n",
              "    <tr>\n",
              "      <th>10</th>\n",
              "      <td>7</td>\n",
              "      <td>{'max_depth': 5, 'min_samples_split': 3}</td>\n",
              "      <td>0.794276</td>\n",
              "      <td>0.774194</td>\n",
              "      <td>0.799283</td>\n",
              "      <td>0.809353</td>\n",
              "    </tr>\n",
              "    <tr>\n",
              "      <th>11</th>\n",
              "      <td>8</td>\n",
              "      <td>{'max_depth': 5, 'min_samples_split': 4}</td>\n",
              "      <td>0.793082</td>\n",
              "      <td>0.774194</td>\n",
              "      <td>0.795699</td>\n",
              "      <td>0.809353</td>\n",
              "    </tr>\n",
              "  </tbody>\n",
              "</table>\n",
              "</div>"
            ],
            "text/plain": [
              "    rank_test_score  ... split2_test_score\n",
              "0                10  ...          0.794964\n",
              "1                10  ...          0.794964\n",
              "2                10  ...          0.794964\n",
              "3                 4  ...          0.805755\n",
              "4                 4  ...          0.805755\n",
              "5                 4  ...          0.805755\n",
              "6                 1  ...          0.805755\n",
              "7                 1  ...          0.805755\n",
              "8                 1  ...          0.805755\n",
              "9                 9  ...          0.802158\n",
              "10                7  ...          0.809353\n",
              "11                8  ...          0.809353\n",
              "\n",
              "[12 rows x 6 columns]"
            ]
          },
          "metadata": {},
          "execution_count": 22
        }
      ]
    },
    {
      "cell_type": "code",
      "metadata": {
        "id": "5GuHYYXo9vud",
        "colab": {
          "base_uri": "https://localhost:8080/"
        },
        "outputId": "3e2208b3-991d-43a4-ed2e-5a476dfee691"
      },
      "source": [
        "grid_clf.best_params_"
      ],
      "execution_count": 23,
      "outputs": [
        {
          "output_type": "execute_result",
          "data": {
            "text/plain": [
              "{'max_depth': 4, 'min_samples_split': 2}"
            ]
          },
          "metadata": {},
          "execution_count": 23
        }
      ]
    },
    {
      "cell_type": "code",
      "metadata": {
        "id": "lan36D2-9vxl",
        "colab": {
          "base_uri": "https://localhost:8080/"
        },
        "outputId": "13fbd6f0-acbd-4bc8-bea3-f41b7bb4b8c0"
      },
      "source": [
        "grid_clf.best_score_"
      ],
      "execution_count": 24,
      "outputs": [
        {
          "output_type": "execute_result",
          "data": {
            "text/plain": [
              "0.8038300542361809"
            ]
          },
          "metadata": {},
          "execution_count": 24
        }
      ]
    },
    {
      "cell_type": "code",
      "metadata": {
        "id": "Da_WoEqA9v0g",
        "colab": {
          "base_uri": "https://localhost:8080/"
        },
        "outputId": "7cfa8dae-76ec-472d-a2fc-fb521e0f15c2"
      },
      "source": [
        "clf_best = grid_clf.best_estimator_\n",
        "\n",
        "pred = clf_best.predict(X_test)\n",
        "accuracy_score(y_test, pred)"
      ],
      "execution_count": 25,
      "outputs": [
        {
          "output_type": "execute_result",
          "data": {
            "text/plain": [
              "0.7655502392344498"
            ]
          },
          "metadata": {},
          "execution_count": 25
        }
      ]
    }
  ]
}